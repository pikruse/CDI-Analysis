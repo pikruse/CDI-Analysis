{
 "cells": [
  {
   "cell_type": "code",
   "execution_count": null,
   "id": "f7549554-ffc3-460b-9fdb-59a374baa0e1",
   "metadata": {},
   "outputs": [],
   "source": [
    "# Seed value\n",
    "# Apparently you may use different seed values at each stage\n",
    "seed_value= 0\n",
    "\n",
    "# 1. Set `PYTHONHASHSEED` environment variable at a fixed value\n",
    "import os\n",
    "%env PYTHONHASHSEED=0\n",
    "\n",
    "# 2. Set `python` built-in pseudo-random generator at a fixed value\n",
    "import random\n",
    "random.seed(seed_value)\n",
    "\n",
    "# 3. Set `numpy` pseudo-random generator at a fixed value\n",
    "import numpy as np\n",
    "np.random.seed(seed_value)\n",
    "\n",
    "# 4. Set the `tensorflow` pseudo-random generator at a fixed value\n",
    "import tensorflow as tf\n",
    "tf.random.set_seed(seed_value)\n",
    "# for later versions: \n",
    "# tf.compat.v1.set_random_seed(seed_value)\n",
    "\n",
    "# 5. Configure a new global `tensorflow` session\n",
    "\n",
    "# for later versions:\n",
    "session_conf = tf.compat.v1.ConfigProto(intra_op_parallelism_threads=1, inter_op_parallelism_threads=1)\n",
    "sess = tf.compat.v1.Session(graph=tf.compat.v1.get_default_graph(), config=session_conf)\n",
    "tf.compat.v1.keras.backend.set_session(sess)"
   ]
  },
  {
   "cell_type": "code",
   "execution_count": null,
   "id": "041cfea9-1139-4e66-9317-49ae71fc9aa1",
   "metadata": {},
   "outputs": [],
   "source": [
    "import pandas as pd\n",
    "import numpy as np\n",
    "\n",
    "import tensorflow as tf\n",
    "from tensorflow.keras import losses\n",
    "from tensorflow.keras import optimizers\n",
    "from tensorflow.keras import metrics\n",
    "\n",
    "from tensorflow.keras.layers import Input, Conv1D, Conv2D, Flatten, Dense, Conv1DTranspose, Conv2DTranspose, Reshape, Lambda, Activation, BatchNormalization, LeakyReLU, Dropout, ReLU, Masking, Concatenate, Layer\n",
    "from tensorflow.keras.models import Model, Sequential\n",
    "from tensorflow.keras import backend as K\n",
    "from tensorflow.keras.optimizers import Adam\n",
    "from tensorflow.keras.initializers import Zeros\n",
    "from tensorflow.keras.callbacks import ModelCheckpoint, EarlyStopping\n",
    "from tensorflow.keras.utils import plot_model\n",
    "\n",
    "import numpy as np\n",
    "import pandas as pd\n",
    "\n",
    "import tensorflow as tf\n",
    "from tensorflow.python.keras import regularizers\n",
    "\n",
    "from sklearn import preprocessing\n",
    "from sklearn.model_selection import StratifiedKFold\n",
    "from sklearn.preprocessing import LabelEncoder\n",
    "from sklearn.model_selection import cross_val_score\n",
    "from sklearn.model_selection import RepeatedStratifiedKFold\n",
    "from sklearn.ensemble import RandomForestClassifier\n",
    "from sklearn.linear_model import LogisticRegression\n",
    "from sklearn.inspection import permutation_importance\n",
    "\n",
    "import lime.lime_tabular\n",
    "\n",
    "import re\n",
    "\n",
    "from sklearn.model_selection import train_test_split\n",
    "\n",
    "import tensorflow as tf\n",
    "physical_devices = tf.config.list_physical_devices('GPU') \n",
    "for device in physical_devices:\n",
    "    tf.config.experimental.set_memory_growth(device, True)"
   ]
  },
  {
   "cell_type": "code",
   "execution_count": null,
   "id": "9dc1de5a-2474-452f-be37-48a503bb7338",
   "metadata": {},
   "outputs": [],
   "source": [
    "meta = pd.read_csv(\"cdiff_meta_COMBINED.txt\", sep = \"\\t\")\n",
    "\n",
    "#bacterial datasets\n",
    "bacteria = pd.read_csv(\"filtered_species_table-NEW.txt\", sep = \"\\t\")\n",
    "bacteria_species = pd.read_csv(\"ALL-SPECIES-species-ed_lefse_CDIStatus-k2-full.txt.2.txt\", sep = \"\\t\")\n",
    "\n",
    "#fungal datasets\n",
    "fungi = pd.read_csv(\"filtered_species_table-FUNGI.txt\", sep = \"\\t\")\n",
    "fungi_species = pd.read_csv(\"FUNGI-SPECIES-species-lefse_CDIStatus-k2-fungi.txt.2.txt\", sep = \"\\t\")\n",
    "fungi_genes = pd.read_csv(\"FUNGI-GENES-ed_renamed_lefse_CDIStatus-genes-emapper-fungi.txt.2.txt\", sep = \"\\t\")\n",
    "full_fungi = pd.read_csv(\"taxa-expression-profile-FUNGI.txt\", sep = \"\\t\")\n",
    "\n",
    "#combined datasets\n",
    "combined = pd.read_csv(\"table-hits-combined.txt\", sep = \"\\t\")\n",
    "combined_genes = pd.read_csv(\"ALL-GENES-renamed_lefse_CDIStatus-emapper-full.txt\", sep = \"\\t\")"
   ]
  },
  {
   "cell_type": "code",
   "execution_count": null,
   "id": "500d89a1-73b8-4220-9c72-a22d0b448c69",
   "metadata": {},
   "outputs": [],
   "source": [
    "fungi_species_name = []\n",
    "for species in fungi_species[\"Species\"]:\n",
    "    species = species.split('.')\n",
    "    species = ';'.join(species)\n",
    "    fungi_species_name.append(species)"
   ]
  },
  {
   "cell_type": "code",
   "execution_count": null,
   "id": "ff66aa89-5423-448d-81e2-2a60035a5a7c",
   "metadata": {},
   "outputs": [],
   "source": [
    "# transpose fungi data\n",
    "fungi = fungi.set_index(\"SampleID\")\n",
    "fungi = fungi.transpose()\n",
    "fungi.index = fungi.index.map(int)"
   ]
  },
  {
   "cell_type": "code",
   "execution_count": null,
   "id": "f8b234f5-c716-4298-99cf-1578cc5a0deb",
   "metadata": {},
   "outputs": [],
   "source": [
    "fungi = fungi[fungi_species_name]"
   ]
  },
  {
   "cell_type": "code",
   "execution_count": null,
   "id": "f8dc7460-02c4-4215-b26d-62ae3b8cabe0",
   "metadata": {},
   "outputs": [],
   "source": [
    "# sort by index\n",
    "fungi = fungi.sort_index()"
   ]
  },
  {
   "cell_type": "code",
   "execution_count": null,
   "id": "c5be5600-649e-4c60-9651-67a3018bc252",
   "metadata": {},
   "outputs": [],
   "source": [
    "# transpose fungi data\n",
    "full_fungi = full_fungi.set_index(\"SampleID\")\n",
    "full_fungi = full_fungi.transpose()\n",
    "full_fungi.index = full_fungi.index.map(int)"
   ]
  },
  {
   "cell_type": "code",
   "execution_count": null,
   "id": "01a6ef66-7363-4bdc-b8d1-14f3d93d1dc3",
   "metadata": {},
   "outputs": [],
   "source": [
    "full_fungi = full_fungi[fungi_genes[\"GeneID\"]]\n",
    "full_fungi.shape"
   ]
  },
  {
   "cell_type": "code",
   "execution_count": null,
   "id": "c3e34cd0-6639-4633-b696-2c0873ccb4d7",
   "metadata": {},
   "outputs": [],
   "source": [
    "full_fungi = full_fungi.sort_index()\n",
    "full_fungi_names = full_fungi.columns"
   ]
  },
  {
   "cell_type": "code",
   "execution_count": null,
   "id": "12e2a5c8-bd71-408c-b95a-87596cfa1a3c",
   "metadata": {},
   "outputs": [],
   "source": [
    "bacteria_species_names = []\n",
    "for name in bacteria_species[\"Species\"]:\n",
    "    name = re.sub(\"[^0-9a-zA-Z]+\", \"_\", name)\n",
    "    bacteria_species_names.append(name)"
   ]
  },
  {
   "cell_type": "code",
   "execution_count": null,
   "id": "1eb008a1-cfee-46d6-a902-63fcebfadc84",
   "metadata": {},
   "outputs": [],
   "source": [
    "# transpose bacteria data\n",
    "bacteria = bacteria.set_index(\"SampleID\")\n",
    "bacteria = bacteria.transpose()"
   ]
  },
  {
   "cell_type": "code",
   "execution_count": null,
   "id": "f447cd68-0ee3-45c1-973b-9cae16d00d4d",
   "metadata": {},
   "outputs": [],
   "source": [
    "# get sample indexes\n",
    "sample_ids = list(bacteria.index)"
   ]
  },
  {
   "cell_type": "code",
   "execution_count": null,
   "id": "9ef82988-7ba0-4029-b9a6-7d75093a0768",
   "metadata": {},
   "outputs": [],
   "source": [
    "# sort by index\n",
    "bacteria.index = bacteria.index.map(int)\n",
    "bacteria = bacteria.sort_index()"
   ]
  },
  {
   "cell_type": "code",
   "execution_count": null,
   "id": "cb09c24c-91b3-44c1-8b21-ade36700b006",
   "metadata": {},
   "outputs": [],
   "source": [
    "new_col_names = []\n",
    "for name in bacteria.columns:\n",
    "    name = re.sub(\"[^0-9a-zA-Z]+\", \"_\", name)\n",
    "    new_col_names.append(name)\n",
    "    \n",
    "bacteria.columns = new_col_names"
   ]
  },
  {
   "cell_type": "code",
   "execution_count": null,
   "id": "b9f4fd18-e9d9-47b8-849d-d38247b8a1de",
   "metadata": {},
   "outputs": [],
   "source": [
    "bacteria = bacteria[bacteria_species_names]"
   ]
  },
  {
   "cell_type": "code",
   "execution_count": null,
   "id": "86e8a605-39c0-49d0-a864-e44d512368d0",
   "metadata": {},
   "outputs": [],
   "source": [
    "bacteria.shape"
   ]
  },
  {
   "cell_type": "code",
   "execution_count": null,
   "id": "83caa509-6b7d-423f-954a-0d57e16cd672",
   "metadata": {},
   "outputs": [],
   "source": [
    "# transpose combined data\n",
    "combined = combined.set_index(\"SampleID\")\n",
    "combined = combined.transpose()\n",
    "combined.index = combined.index.map(int)"
   ]
  },
  {
   "cell_type": "code",
   "execution_count": null,
   "id": "c910c505-c1cf-4e2c-a0dc-f5e2678c6288",
   "metadata": {},
   "outputs": [],
   "source": [
    "combined = combined[combined_genes[\"GeneID\"]]\n",
    "combined.shape"
   ]
  },
  {
   "cell_type": "code",
   "execution_count": null,
   "id": "0c94bbf3-9ce9-4ae6-ad9b-bc491be2068e",
   "metadata": {},
   "outputs": [],
   "source": [
    "combined = combined.sort_index()\n",
    "combined_names = combined.columns"
   ]
  },
  {
   "cell_type": "code",
   "execution_count": null,
   "id": "d3d2bbe0-ba71-4873-b7b8-d72dbae28cd6",
   "metadata": {},
   "outputs": [],
   "source": [
    "meta = meta[meta[\"SampleID\"].isin(sample_ids)]"
   ]
  },
  {
   "cell_type": "code",
   "execution_count": null,
   "id": "2c0dd50f-419d-4f5d-a0b4-55c6aabce14e",
   "metadata": {},
   "outputs": [],
   "source": [
    "# make output vector (positive/negative) from metadata\n",
    "y = [1 if i == 'Positive' else 0 for i in meta[\"CDIStatus\"]]\n",
    "y = np.array(y)\n",
    "y = y.astype(\"float32\")"
   ]
  },
  {
   "cell_type": "code",
   "execution_count": null,
   "id": "ff9bbfa4-b41b-444f-a9b1-84096156166f",
   "metadata": {},
   "outputs": [],
   "source": [
    "#convert to numpy array\n",
    "fungi = np.array(fungi)\n",
    "fungi = fungi.astype(\"float32\")\n",
    "\n",
    "full_fungi = np.array(full_fungi)\n",
    "full_fungi = full_fungi.astype(\"float32\")\n",
    "\n",
    "combined = np.array(combined)\n",
    "combined = combined.astype(\"float32\")\n",
    "\n",
    "bacteria = np.array(bacteria)\n",
    "bacteria = bacteria.astype(\"float32\")"
   ]
  },
  {
   "cell_type": "code",
   "execution_count": null,
   "id": "9958942e-d56e-4f22-8277-068010e49429",
   "metadata": {},
   "outputs": [],
   "source": [
    "combined_species = np.array(np.hstack([fungi, bacteria]))\n",
    "combined_species.shape"
   ]
  },
  {
   "cell_type": "code",
   "execution_count": null,
   "id": "12640528-235e-4a6c-a33c-7e0d809bfa7f",
   "metadata": {},
   "outputs": [],
   "source": [
    "combined_species_names = fungi_species_name + bacteria_species_names"
   ]
  },
  {
   "cell_type": "code",
   "execution_count": null,
   "id": "4064eb75-ebe5-4dd6-a566-4eb8387d1c37",
   "metadata": {},
   "outputs": [],
   "source": [
    "# Linear SVM\n",
    "from sklearn import svm\n",
    "from sklearn import metrics\n",
    "import matplotlib.pyplot as plt\n",
    "\n",
    "clf = svm.SVC(kernel = 'linear', C = 1)\n",
    "clf.fit(combined_species, y)\n",
    "cv = RepeatedStratifiedKFold(n_splits=10, n_repeats=5, random_state=0)\n",
    "score = cross_val_score(clf, combined_species, y, scoring='accuracy', cv=cv)\n",
    "\n",
    "# report performance\n",
    "print(f'Scores for each fold are: {score}')\n",
    "print(f'Average score: {\"{:.3f} (+/-{:.3f})\".format(score.mean(), score.std())}')\n",
    "\n",
    "pd.Series(abs(clf.coef_[0]), index=combined_species_names).nlargest(10).plot(kind='barh')\n"
   ]
  },
  {
   "cell_type": "code",
   "execution_count": null,
   "id": "2360bc18-30ab-4230-bf26-ac79e59e2822",
   "metadata": {},
   "outputs": [],
   "source": [
    "# Random Forest \n",
    "clf = RandomForestClassifier()\n",
    "clf.fit(combined_species, y)\n",
    "cv = RepeatedStratifiedKFold(n_splits=10, n_repeats=5, random_state=1)\n",
    "score = cross_val_score(clf, combined_species, y, scoring='accuracy', cv=cv)\n",
    "\n",
    "# report performance\n",
    "print(f'Scores for each fold are: {score}')\n",
    "print(f'Average score: {\"{:.3f} (+/-{:.3f})\".format(score.mean(), score.std())}')\n",
    "\n",
    "pd.Series(abs(clf.feature_importances_), index=combined_species_names).nlargest(10).plot(kind='barh')"
   ]
  },
  {
   "cell_type": "code",
   "execution_count": null,
   "id": "8902779f-3f29-484f-881d-0e23f630c15c",
   "metadata": {},
   "outputs": [],
   "source": [
    "# Now with cross-validation\n",
    "# Begin K-fold Cross-Validation\n",
    "kfold = RepeatedStratifiedKFold(n_splits = 10, n_repeats = 5, random_state = 0)\n",
    "cvacc = []\n",
    "cvauc = []\n",
    "\n",
    "# create model with CV compatibility\n",
    "for train, test in kfold.split(combined_species, y):\n",
    "    \n",
    "    model = Sequential([\n",
    "        Lambda(lambda x: K.log(K.cast((1 + x * 1000), \"float32\"))/K.log(K.cast((1 + 1000), \"float32\"))),\n",
    "        Dense(500, activation = 'softplus', kernel_regularizer=tf.keras.regularizers.l1(.001)),\n",
    "        Dropout(.4),\n",
    "        BatchNormalization(),\n",
    "        Dense(500, activation = 'softplus', kernel_regularizer=tf.keras.regularizers.l1(.001)),\n",
    "        Dropout(.4),\n",
    "        BatchNormalization(),\n",
    "        Dense(500, activation = 'softplus', kernel_regularizer=tf.keras.regularizers.l1(.001)),\n",
    "        Dropout(.4),\n",
    "        BatchNormalization(),\n",
    "        Dense(500, activation = 'softplus', kernel_regularizer=tf.keras.regularizers.l1(.001)),\n",
    "        Dropout(.4),\n",
    "        BatchNormalization(),\n",
    "        Dense(500, activation = 'softplus', kernel_regularizer=tf.keras.regularizers.l1(.001)),\n",
    "        Dropout(.4),\n",
    "        BatchNormalization(),\n",
    "        Dense(500, activation = 'softplus', kernel_regularizer=tf.keras.regularizers.l1(.001)),\n",
    "        Dropout(.4),\n",
    "        BatchNormalization(),\n",
    "        Dense(1, activation = 'sigmoid')\n",
    "    ])\n",
    "    \n",
    "    model.compile(optimizer = \"Adam\",\n",
    "                  loss = \"binary_crossentropy\",\n",
    "                  metrics = [\"accuracy\"])\n",
    "    \n",
    "    model.fit(combined_species[train], y[train],\n",
    "              epochs = 1000,\n",
    "              validation_split = .2,\n",
    "              verbose = 0)\n",
    "    \n",
    "    train_result = model.evaluate(combined_species[train], y[train], verbose = 0)\n",
    "    print(\"train {:s}: {:.2%} \".format(model.metrics_names[1], train_result[1]))\n",
    "    \n",
    "    result = model.evaluate(combined_species[test], y[test], verbose = 0)\n",
    "    print(\"{:s}: {:.2%} \\n\".format(model.metrics_names[1], result[1]))\n",
    "    \n",
    "    cvacc.append(result[1])\n",
    "    \n",
    "print(\"Accuracy: {:.2%} (+/-{:.2%})\".format(np.mean(cvacc), np.std(cvacc)))"
   ]
  }
 ],
 "metadata": {
  "kernelspec": {
   "display_name": "Python 3 (ipykernel)",
   "language": "python",
   "name": "python3"
  },
  "language_info": {
   "codemirror_mode": {
    "name": "ipython",
    "version": 3
   },
   "file_extension": ".py",
   "mimetype": "text/x-python",
   "name": "python",
   "nbconvert_exporter": "python",
   "pygments_lexer": "ipython3",
   "version": "3.8.5"
  }
 },
 "nbformat": 4,
 "nbformat_minor": 5
}
