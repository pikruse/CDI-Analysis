{
 "cells": [
  {
   "cell_type": "code",
   "execution_count": 1,
   "id": "24678421-cb86-4ec4-80ba-2b621df0f209",
   "metadata": {},
   "outputs": [
    {
     "name": "stdout",
     "output_type": "stream",
     "text": [
      "env: PYTHONHASHSEED=0\n",
      "WARNING:tensorflow:From C:\\Users\\Peter\\AppData\\Local\\Temp/ipykernel_17120/26193669.py:28: The name tf.keras.backend.set_session is deprecated. Please use tf.compat.v1.keras.backend.set_session instead.\n",
      "\n"
     ]
    }
   ],
   "source": [
    "# Seed value\n",
    "# Apparently you may use different seed values at each stage\n",
    "seed_value= 0\n",
    "\n",
    "# 1. Set `PYTHONHASHSEED` environment variable at a fixed value\n",
    "import os\n",
    "%env PYTHONHASHSEED=0\n",
    "\n",
    "# 2. Set `python` built-in pseudo-random generator at a fixed value\n",
    "import random\n",
    "random.seed(seed_value)\n",
    "\n",
    "# 3. Set `numpy` pseudo-random generator at a fixed value\n",
    "import numpy as np\n",
    "np.random.seed(seed_value)\n",
    "\n",
    "# 4. Set the `tensorflow` pseudo-random generator at a fixed value\n",
    "import tensorflow as tf\n",
    "tf.random.set_seed(seed_value)\n",
    "# for later versions: \n",
    "# tf.compat.v1.set_random_seed(seed_value)\n",
    "\n",
    "# 5. Configure a new global `tensorflow` session\n",
    "\n",
    "# for later versions:\n",
    "session_conf = tf.compat.v1.ConfigProto(intra_op_parallelism_threads=1, inter_op_parallelism_threads=1)\n",
    "sess = tf.compat.v1.Session(graph=tf.compat.v1.get_default_graph(), config=session_conf)\n",
    "tf.compat.v1.keras.backend.set_session(sess)"
   ]
  },
  {
   "cell_type": "markdown",
   "id": "53c19ba1-4062-452b-b09d-7aeeda14e6b8",
   "metadata": {},
   "source": [
    "## Import Necessary Packages"
   ]
  },
  {
   "cell_type": "code",
   "execution_count": 2,
   "id": "f8958e57-e9ca-4981-8d9a-67beaf9825b9",
   "metadata": {},
   "outputs": [],
   "source": [
    "import pandas as pd\n",
    "import numpy as np\n",
    "\n",
    "import tensorflow as tf\n",
    "from tensorflow.keras import losses\n",
    "from tensorflow.keras import optimizers\n",
    "from tensorflow.keras import metrics\n",
    "\n",
    "from tensorflow.keras.layers import Input, Conv1D, Conv2D, Flatten, Dense, Conv1DTranspose, Conv2DTranspose, Reshape, Lambda, Activation, BatchNormalization, LeakyReLU, Dropout, ReLU, Masking, Concatenate, Layer\n",
    "from tensorflow.keras.models import Model, Sequential\n",
    "from tensorflow.keras import backend as K\n",
    "from tensorflow.keras.optimizers import Adam\n",
    "from tensorflow.keras.initializers import Zeros\n",
    "from tensorflow.keras.callbacks import ModelCheckpoint, EarlyStopping\n",
    "from tensorflow.keras.utils import plot_model\n",
    "\n",
    "import numpy as np\n",
    "import pandas as pd\n",
    "\n",
    "import tensorflow as tf\n",
    "from tensorflow.python.keras import regularizers\n",
    "\n",
    "from sklearn import preprocessing\n",
    "from sklearn.model_selection import StratifiedKFold\n",
    "from sklearn.preprocessing import LabelEncoder\n",
    "from sklearn.model_selection import cross_val_score\n",
    "from sklearn.model_selection import RepeatedStratifiedKFold\n",
    "from sklearn.ensemble import RandomForestClassifier\n",
    "from sklearn.linear_model import LogisticRegression\n",
    "from sklearn.inspection import permutation_importance\n",
    "\n",
    "import lime.lime_tabular\n",
    "\n",
    "import re\n",
    "\n",
    "from sklearn.model_selection import train_test_split\n",
    "\n",
    "import tensorflow as tf\n",
    "physical_devices = tf.config.list_physical_devices('GPU') \n",
    "for device in physical_devices:\n",
    "    tf.config.experimental.set_memory_growth(device, True)"
   ]
  },
  {
   "cell_type": "markdown",
   "id": "55e5548d-7b6b-44b7-b94d-2066f7d4a579",
   "metadata": {},
   "source": [
    "## Load Datasets"
   ]
  },
  {
   "cell_type": "code",
   "execution_count": 7,
   "id": "3823dde4-2c51-490b-98c0-4f54dabb97b8",
   "metadata": {},
   "outputs": [],
   "source": [
    "meta = pd.read_csv(\"Data/cdiff_meta_COMBINED.txt\", sep = \"\\t\")\n",
    "\n",
    "#bacterial datasets\n",
    "bacteria = pd.read_csv(\"Data/filtered_species_table-NEW.txt\", sep = \"\\t\")\n",
    "bacteria_species = pd.read_csv(\"Data\\ALL-SPECIES-species-ed_lefse_CDIStatus-k2-full.txt.2.txt\", sep = \"\\t\")\n",
    "\n",
    "#fungal datasets\n",
    "fungi = pd.read_csv(\"Data/filtered_species_table-FUNGI.txt\", sep = \"\\t\")\n",
    "fungi_species = pd.read_csv(\"Data/FUNGI-SPECIES-species-lefse_CDIStatus-k2-fungi.txt.2.txt\", sep = \"\\t\")\n",
    "fungi_genes = pd.read_csv(\"Data/FUNGI-GENES-ed_renamed_lefse_CDIStatus-genes-emapper-fungi.txt.2.txt\", sep = \"\\t\")\n",
    "full_fungi = pd.read_csv(\"Data/taxa-expression-profile-FUNGI.txt\", sep = \"\\t\")\n",
    "\n",
    "#combined datasets\n",
    "combined = pd.read_csv(\"Data/table-hits-combined.txt\", sep = \"\\t\")\n",
    "combined_genes = pd.read_csv(\"Data/ALL-GENES-renamed_lefse_CDIStatus-emapper-full.txt\", sep = \"\\t\")"
   ]
  },
  {
   "cell_type": "code",
   "execution_count": null,
   "id": "37cc16cf-6e90-4860-accd-1e01339950b5",
   "metadata": {},
   "outputs": [],
   "source": []
  },
  {
   "cell_type": "markdown",
   "id": "21cc1166-dcca-409b-93de-2d41504b7d99",
   "metadata": {
    "tags": []
   },
   "source": [
    "## Fungi Preprocessing"
   ]
  },
  {
   "cell_type": "code",
   "execution_count": 8,
   "id": "969ac61d-e79b-4bbb-b413-5b6f73e08503",
   "metadata": {},
   "outputs": [],
   "source": [
    "# change name separator from . to ;\n",
    "fungi_species_name = []\n",
    "for species in fungi_species[\"Species\"]:\n",
    "    species = species.split('.')\n",
    "    species = ';'.join(species)\n",
    "    fungi_species_name.append(species)"
   ]
  },
  {
   "cell_type": "code",
   "execution_count": 9,
   "id": "bc728fd8-c275-4a6e-960e-c9baa1fdff6d",
   "metadata": {},
   "outputs": [],
   "source": [
    "# transpose fungi data\n",
    "fungi = fungi.set_index(\"SampleID\")\n",
    "fungi = fungi.transpose()\n",
    "fungi.index = fungi.index.map(int)"
   ]
  },
  {
   "cell_type": "code",
   "execution_count": 10,
   "id": "4ba3087f-b868-4203-87a6-2f867c74a2fb",
   "metadata": {},
   "outputs": [],
   "source": [
    "# subset data with lefse selected species\n",
    "fungi = fungi[fungi_species_name]"
   ]
  },
  {
   "cell_type": "code",
   "execution_count": 11,
   "id": "94204b64-e88e-4a4b-91b3-8a213c907002",
   "metadata": {},
   "outputs": [],
   "source": [
    "# sort by index\n",
    "fungi = fungi.sort_index()"
   ]
  },
  {
   "cell_type": "code",
   "execution_count": 12,
   "id": "4165f2a8-a322-4c86-98da-3c1614a1b7bf",
   "metadata": {},
   "outputs": [],
   "source": [
    "## Process full fungi data"
   ]
  },
  {
   "cell_type": "code",
   "execution_count": 13,
   "id": "8d092c1f-f646-4d5e-a9d7-71e68323e179",
   "metadata": {},
   "outputs": [],
   "source": [
    "# transpose fungi data\n",
    "full_fungi = full_fungi.set_index(\"SampleID\")\n",
    "full_fungi = full_fungi.transpose()\n",
    "full_fungi.index = full_fungi.index.map(int)"
   ]
  },
  {
   "cell_type": "code",
   "execution_count": 14,
   "id": "7eb0698d-a0dd-45ad-bc70-5dc9ec5f133f",
   "metadata": {},
   "outputs": [
    {
     "data": {
      "text/plain": [
       "(39, 52)"
      ]
     },
     "execution_count": 14,
     "metadata": {},
     "output_type": "execute_result"
    }
   ],
   "source": [
    "# subset data w/ lefse selected genes\n",
    "full_fungi = full_fungi[fungi_genes[\"GeneID\"]]\n",
    "full_fungi.shape"
   ]
  },
  {
   "cell_type": "code",
   "execution_count": 15,
   "id": "b0e68a8c-0f10-46b5-84cc-650ae2382bd0",
   "metadata": {},
   "outputs": [],
   "source": [
    "full_fungi = full_fungi.sort_index()\n",
    "full_fungi_names = full_fungi.columns"
   ]
  },
  {
   "cell_type": "markdown",
   "id": "2343d490-4fe9-4807-a3c1-964647e03b05",
   "metadata": {},
   "source": [
    "## Bacteria Preprocessing"
   ]
  },
  {
   "cell_type": "code",
   "execution_count": 16,
   "id": "fd12f9de-db5c-4f2e-b317-ae06be458196",
   "metadata": {},
   "outputs": [],
   "source": [
    "#change all name separators to '_'\n",
    "bacteria_species_names = []\n",
    "for name in bacteria_species[\"Species\"]:\n",
    "    name = re.sub(\"[^0-9a-zA-Z]+\", \"_\", name)\n",
    "    bacteria_species_names.append(name)"
   ]
  },
  {
   "cell_type": "code",
   "execution_count": 17,
   "id": "2803976b-cfa7-4e49-adb4-3924970a4d43",
   "metadata": {},
   "outputs": [],
   "source": [
    "# transpose bacteria data\n",
    "bacteria = bacteria.set_index(\"SampleID\")\n",
    "bacteria = bacteria.transpose()"
   ]
  },
  {
   "cell_type": "code",
   "execution_count": 18,
   "id": "b292d9a0-6976-4815-93f7-1bbb47474604",
   "metadata": {},
   "outputs": [],
   "source": [
    "# get sample indexes\n",
    "sample_ids = list(bacteria.index)"
   ]
  },
  {
   "cell_type": "code",
   "execution_count": 19,
   "id": "ed3177ad-4cf8-4ff4-86c9-da97cd81fb01",
   "metadata": {},
   "outputs": [],
   "source": [
    "# sort by index\n",
    "bacteria.index = bacteria.index.map(int)\n",
    "bacteria = bacteria.sort_index()"
   ]
  },
  {
   "cell_type": "code",
   "execution_count": 20,
   "id": "cb7383d4-8e64-480c-bcaa-ac2c1e37cda3",
   "metadata": {},
   "outputs": [],
   "source": [
    "#change all name separators to '_'\n",
    "new_col_names = []\n",
    "for name in bacteria.columns:\n",
    "    name = re.sub(\"[^0-9a-zA-Z]+\", \"_\", name)\n",
    "    new_col_names.append(name)\n",
    "    \n",
    "bacteria.columns = new_col_names"
   ]
  },
  {
   "cell_type": "code",
   "execution_count": 21,
   "id": "b538b7f6-d269-41bb-9087-fee2f8f523a6",
   "metadata": {},
   "outputs": [],
   "source": [
    "# subset with lefse selected species names\n",
    "bacteria = bacteria[bacteria_species_names]"
   ]
  },
  {
   "cell_type": "code",
   "execution_count": 22,
   "id": "0fcdc3c0-e549-4441-9044-b7e323c23d48",
   "metadata": {},
   "outputs": [
    {
     "data": {
      "text/plain": [
       "(39, 222)"
      ]
     },
     "execution_count": 22,
     "metadata": {},
     "output_type": "execute_result"
    }
   ],
   "source": [
    "bacteria.shape"
   ]
  },
  {
   "cell_type": "code",
   "execution_count": 23,
   "id": "6c360452-17eb-417f-8149-ecbb9ab7386c",
   "metadata": {},
   "outputs": [],
   "source": [
    "# transpose combined data\n",
    "combined = combined.set_index(\"SampleID\")\n",
    "combined = combined.transpose()\n",
    "combined.index = combined.index.map(int)"
   ]
  },
  {
   "cell_type": "code",
   "execution_count": 24,
   "id": "c41594ce-be05-427f-a9bd-eeffd2d61e4c",
   "metadata": {},
   "outputs": [
    {
     "data": {
      "text/plain": [
       "(39, 130)"
      ]
     },
     "execution_count": 24,
     "metadata": {},
     "output_type": "execute_result"
    }
   ],
   "source": [
    "# subset with lefse selected genes\n",
    "combined = combined[combined_genes[\"GeneID\"]]\n",
    "combined.shape"
   ]
  },
  {
   "cell_type": "code",
   "execution_count": 25,
   "id": "be682b11-01f9-40de-9856-8950e22a15bb",
   "metadata": {},
   "outputs": [],
   "source": [
    "combined = combined.sort_index()\n",
    "combined_names = combined.columns"
   ]
  },
  {
   "cell_type": "code",
   "execution_count": 26,
   "id": "7d205e4f-39e9-4da6-b1ce-2979205057ed",
   "metadata": {},
   "outputs": [],
   "source": [
    "meta = meta[meta[\"SampleID\"].isin(sample_ids)]"
   ]
  },
  {
   "cell_type": "code",
   "execution_count": 27,
   "id": "a5ce8b67-fff6-4704-a911-75174d8a4891",
   "metadata": {},
   "outputs": [],
   "source": [
    "# make output vector (positive/negative) from metadata\n",
    "y = [1 if i == 'Positive' else 0 for i in meta[\"CDIStatus\"]]\n",
    "y = np.array(y)\n",
    "y = y.astype(\"float32\")"
   ]
  },
  {
   "cell_type": "code",
   "execution_count": 28,
   "id": "662edd2e-ffe5-48e5-9a37-c6cd28b17105",
   "metadata": {},
   "outputs": [],
   "source": [
    "#convert to numpy array\n",
    "fungi = np.array(fungi)\n",
    "fungi = fungi.astype(\"float32\")\n",
    "\n",
    "full_fungi = np.array(full_fungi)\n",
    "full_fungi = full_fungi.astype(\"float32\")\n",
    "\n",
    "combined = np.array(combined)\n",
    "combined = combined.astype(\"float32\")\n",
    "\n",
    "bacteria = np.array(bacteria)\n",
    "bacteria = bacteria.astype(\"float32\")"
   ]
  },
  {
   "cell_type": "markdown",
   "id": "b7da3fb5-c98a-4bd7-affb-4a5c93886a95",
   "metadata": {},
   "source": [
    "## Fungi Species Testing"
   ]
  },
  {
   "cell_type": "code",
   "execution_count": 29,
   "id": "bd0e1ff7-c481-43fc-9001-a0cb400921a1",
   "metadata": {},
   "outputs": [
    {
     "name": "stdout",
     "output_type": "stream",
     "text": [
      "Scores for each fold are: [0.75       0.75       1.         1.         1.         0.5\n",
      " 0.5        0.75       0.5        1.         0.5        0.75\n",
      " 1.         0.5        1.         0.5        1.         1.\n",
      " 0.5        1.         1.         0.75       0.75       1.\n",
      " 0.5        0.75       0.5        1.         0.75       0.66666667\n",
      " 0.75       0.5        1.         0.5        1.         0.5\n",
      " 0.5        1.         0.75       0.33333333 1.         0.75\n",
      " 1.         0.25       0.75       1.         0.75       0.75\n",
      " 0.75       0.66666667]\n",
      "Average score: 0.753 (+/-0.218)\n"
     ]
    },
    {
     "data": {
      "text/plain": [
       "<AxesSubplot:>"
      ]
     },
     "execution_count": 29,
     "metadata": {},
     "output_type": "execute_result"
    },
    {
     "data": {
      "image/png": "[encoded data removed]",
      "text/plain": [
       "<Figure size 432x288 with 1 Axes>"
      ]
     },
     "metadata": {
      "needs_background": "light"
     },
     "output_type": "display_data"
    }
   ],
   "source": [
    "# Linear SVM\n",
    "from sklearn import svm\n",
    "from sklearn import metrics\n",
    "import matplotlib.pyplot as plt\n",
    "\n",
    "clf = svm.SVC(kernel = 'linear', C = 1)\n",
    "clf.fit(fungi, y)\n",
    "cv = RepeatedStratifiedKFold(n_splits=10, n_repeats=5, random_state=0)\n",
    "score = cross_val_score(clf, fungi, y, scoring='accuracy', cv=cv)\n",
    "\n",
    "# report performance\n",
    "print(f'Scores for each fold are: {score}')\n",
    "print(f'Average score: {\"{:.3f} (+/-{:.3f})\".format(score.mean(), score.std())}')\n",
    "\n",
    "pd.Series(abs(clf.coef_[0]), index=fungi_species_name).nlargest(10).plot(kind='barh')\n"
   ]
  },
  {
   "cell_type": "code",
   "execution_count": 30,
   "id": "ebeb4628-41d5-4a08-a5af-160b8b02616d",
   "metadata": {},
   "outputs": [
    {
     "data": {
      "text/plain": [
       "<AxesSubplot:>"
      ]
     },
     "execution_count": 30,
     "metadata": {},
     "output_type": "execute_result"
    },
    {
     "data": {
      "image/png": "[encoded data removed]",
      "text/plain": [
       "<Figure size 432x288 with 1 Axes>"
      ]
     },
     "metadata": {
      "needs_background": "light"
     },
     "output_type": "display_data"
    }
   ],
   "source": [
    "## SVM Viz.\n",
    "svm_names = ['Encephalitozoon cuniculi',\n",
    "             'Neurospora Crassa',\n",
    "             'Kazachstania Naganashii',\n",
    "             'Fusarium fujikuroi',\n",
    "             'Fusarium oxysporum',\n",
    "             'Colletotrichum higginsianum',\n",
    "             'Pichia kudriavzevii',\n",
    "             'Sporisorium graminicola',\n",
    "             'Aspergillus oryzae',\n",
    "             'Zymoseptoria tritici']\n",
    "\n",
    "svm_feats = pd.Series(abs(clf.coef_[0]), index=fungi_species_name).nlargest(10)\n",
    "svm_feats.set_axis(svm_names).plot(kind='barh')"
   ]
  },
  {
   "cell_type": "code",
   "execution_count": 28,
   "id": "14363026-412f-4aac-892a-c93fbb357eed",
   "metadata": {},
   "outputs": [
    {
     "name": "stdout",
     "output_type": "stream",
     "text": [
      "Scores for each fold are: [0.25       1.         0.75       0.75       0.5        0.5\n",
      " 0.5        0.5        0.75       0.66666667 0.5        1.\n",
      " 0.75       0.5        0.5        0.25       0.25       0.75\n",
      " 0.5        1.         0.25       0.5        0.75       0.75\n",
      " 0.5        0.5        0.75       0.75       1.         0.66666667\n",
      " 1.         0.25       0.5        0.5        0.25       1.\n",
      " 0.5        1.         0.75       0.66666667 0.25       0.75\n",
      " 0.         0.5        0.75       0.75       1.         0.75\n",
      " 0.25       0.33333333]\n",
      "Average score: 0.607\n"
     ]
    },
    {
     "data": {
      "text/plain": [
       "<AxesSubplot:>"
      ]
     },
     "execution_count": 28,
     "metadata": {},
     "output_type": "execute_result"
    },
    {
     "data": {
      "image/png": "[encoded data removed]",
      "text/plain": [
       "<Figure size 432x288 with 1 Axes>"
      ]
     },
     "metadata": {
      "needs_background": "light"
     },
     "output_type": "display_data"
    }
   ],
   "source": [
    "# Random Forest \n",
    "clf = RandomForestClassifier()\n",
    "clf.fit(fungi, y)\n",
    "cv = RepeatedStratifiedKFold(n_splits=10, n_repeats=5, random_state=0)\n",
    "score = cross_val_score(clf, fungi, y, scoring='accuracy', cv=cv)\n",
    "\n",
    "# report performance\n",
    "print(f'Scores for each fold are: {score}')\n",
    "print(f'Average score: {\"{:.3f}\".format(score.mean())}')\n",
    "\n",
    "pd.Series(abs(clf.feature_importances_), index=fungi_species_name).nlargest(10).plot(kind='barh')"
   ]
  },
  {
   "cell_type": "code",
   "execution_count": 131,
   "id": "bf32e14f-db88-4c75-911a-696cfafe0aa7",
   "metadata": {},
   "outputs": [
    {
     "name": "stdout",
     "output_type": "stream",
     "text": [
      "train accuracy: 94.29% \n",
      "accuracy: 75.00% \n",
      "\n",
      "train accuracy: 88.57% \n",
      "accuracy: 75.00% \n",
      "\n",
      "train accuracy: 97.14% \n",
      "accuracy: 75.00% \n",
      "\n",
      "train accuracy: 94.29% \n",
      "accuracy: 75.00% \n",
      "\n",
      "train accuracy: 91.43% \n",
      "accuracy: 100.00% \n",
      "\n",
      "train accuracy: 88.57% \n",
      "accuracy: 25.00% \n",
      "\n",
      "train accuracy: 85.71% \n",
      "accuracy: 50.00% \n",
      "\n",
      "train accuracy: 94.29% \n",
      "accuracy: 50.00% \n",
      "\n",
      "train accuracy: 94.29% \n",
      "accuracy: 75.00% \n",
      "\n",
      "train accuracy: 91.67% \n",
      "accuracy: 33.33% \n",
      "\n",
      "train accuracy: 94.29% \n",
      "accuracy: 50.00% \n",
      "\n",
      "train accuracy: 94.29% \n",
      "accuracy: 100.00% \n",
      "\n",
      "train accuracy: 94.29% \n",
      "accuracy: 75.00% \n",
      "\n",
      "train accuracy: 97.14% \n",
      "accuracy: 100.00% \n",
      "\n",
      "train accuracy: 91.43% \n",
      "accuracy: 100.00% \n",
      "\n",
      "train accuracy: 91.43% \n",
      "accuracy: 25.00% \n",
      "\n",
      "train accuracy: 85.71% \n",
      "accuracy: 75.00% \n",
      "\n",
      "train accuracy: 94.29% \n",
      "accuracy: 75.00% \n",
      "\n",
      "train accuracy: 85.71% \n",
      "accuracy: 75.00% \n",
      "\n",
      "train accuracy: 91.67% \n",
      "accuracy: 100.00% \n",
      "\n",
      "train accuracy: 91.43% \n",
      "accuracy: 75.00% \n",
      "\n",
      "train accuracy: 94.29% \n",
      "accuracy: 100.00% \n",
      "\n",
      "train accuracy: 97.14% \n",
      "accuracy: 75.00% \n",
      "\n",
      "train accuracy: 88.57% \n",
      "accuracy: 50.00% \n",
      "\n",
      "train accuracy: 94.29% \n",
      "accuracy: 50.00% \n",
      "\n",
      "train accuracy: 94.29% \n",
      "accuracy: 50.00% \n",
      "\n",
      "train accuracy: 94.29% \n",
      "accuracy: 75.00% \n",
      "\n",
      "train accuracy: 94.29% \n",
      "accuracy: 75.00% \n",
      "\n",
      "train accuracy: 91.43% \n",
      "accuracy: 100.00% \n",
      "\n",
      "train accuracy: 100.00% \n",
      "accuracy: 66.67% \n",
      "\n",
      "train accuracy: 88.57% \n",
      "accuracy: 75.00% \n",
      "\n",
      "train accuracy: 94.29% \n",
      "accuracy: 50.00% \n",
      "\n",
      "train accuracy: 97.14% \n",
      "accuracy: 100.00% \n",
      "\n",
      "train accuracy: 94.29% \n",
      "accuracy: 25.00% \n",
      "\n",
      "train accuracy: 91.43% \n",
      "accuracy: 100.00% \n",
      "\n",
      "train accuracy: 94.29% \n",
      "accuracy: 50.00% \n",
      "\n",
      "train accuracy: 91.43% \n",
      "accuracy: 50.00% \n",
      "\n",
      "train accuracy: 94.29% \n",
      "accuracy: 75.00% \n",
      "\n",
      "train accuracy: 85.71% \n",
      "accuracy: 75.00% \n",
      "\n",
      "train accuracy: 94.44% \n",
      "accuracy: 0.00% \n",
      "\n",
      "train accuracy: 88.57% \n",
      "accuracy: 100.00% \n",
      "\n",
      "train accuracy: 94.29% \n",
      "accuracy: 75.00% \n",
      "\n",
      "train accuracy: 94.29% \n",
      "accuracy: 100.00% \n",
      "\n",
      "train accuracy: 85.71% \n",
      "accuracy: 25.00% \n",
      "\n",
      "train accuracy: 88.57% \n",
      "accuracy: 50.00% \n",
      "\n",
      "train accuracy: 88.57% \n",
      "accuracy: 50.00% \n",
      "\n",
      "train accuracy: 94.29% \n",
      "accuracy: 100.00% \n",
      "\n",
      "train accuracy: 94.29% \n",
      "accuracy: 50.00% \n",
      "\n",
      "train accuracy: 91.43% \n",
      "accuracy: 75.00% \n",
      "\n",
      "train accuracy: 94.44% \n",
      "accuracy: 66.67% \n",
      "\n",
      "Accuracy: 68.33% (+/-24.61%)\n"
     ]
    }
   ],
   "source": [
    "# Now with cross-validation\n",
    "# Begin K-fold Cross-Validation\n",
    "kfold = RepeatedStratifiedKFold(n_splits = 10, n_repeats = 5, random_state = 0)\n",
    "cvacc = []\n",
    "cvauc = []\n",
    "\n",
    "# create model with CV compatibility\n",
    "for train, test in kfold.split(fungi, y):\n",
    "    \n",
    "    model = Sequential([\n",
    "        Dense(32, activation='relu', kernel_regularizer=tf.keras.regularizers.l1(.001)),\n",
    "        Dense(32, activation='relu', kernel_regularizer=tf.keras.regularizers.l1(.001)),\n",
    "        Dense(32, activation='relu', kernel_regularizer=tf.keras.regularizers.l1(.001)),\n",
    "        Dense(32, activation='relu', kernel_regularizer=tf.keras.regularizers.l1(.001)),\n",
    "        Dense(32, activation='relu', kernel_regularizer=tf.keras.regularizers.l1(.001)),\n",
    "        Dense(32, activation='relu', kernel_regularizer=tf.keras.regularizers.l1(.001)),\n",
    "        Dense(1, activation = 'sigmoid')\n",
    "    ])\n",
    "    \n",
    "    model.compile(optimizer = \"Adam\",\n",
    "                  loss = \"binary_crossentropy\",\n",
    "                  metrics = [\"accuracy\"])\n",
    "    \n",
    "    model.fit(fungi[train], y[train],\n",
    "              epochs = 1000,\n",
    "              validation_split = .2,\n",
    "              verbose = 0)\n",
    "    \n",
    "    train_result = model.evaluate(fungi[train], y[train], verbose = 0)\n",
    "    print(\"train {:s}: {:.2%} \".format(model.metrics_names[1], train_result[1]))\n",
    "    \n",
    "    result = model.evaluate(fungi[test], y[test], verbose = 0)\n",
    "    print(\"{:s}: {:.2%} \\n\".format(model.metrics_names[1], result[1]))\n",
    "    \n",
    "    cvacc.append(result[1])\n",
    "    \n",
    "print(\"Accuracy: {:.2%} (+/-{:.2%})\".format(np.mean(cvacc), np.std(cvacc)))"
   ]
  },
  {
   "cell_type": "markdown",
   "id": "3f071506-ad17-44e0-8904-7f75328d0d6c",
   "metadata": {},
   "source": [
    "## Fungi Gene Testing"
   ]
  },
  {
   "cell_type": "code",
   "execution_count": 36,
   "id": "893d1211-7738-4b79-987b-962d0e00546e",
   "metadata": {},
   "outputs": [
    {
     "name": "stdout",
     "output_type": "stream",
     "text": [
      "Scores for each fold are: [0.5        0.5        0.5        0.5        0.5        0.5\n",
      " 0.75       0.         0.75       0.66666667 0.75       0.5\n",
      " 0.5        0.25       0.75       1.         0.5        0.25\n",
      " 0.5        0.66666667 0.5        0.25       0.75       0.75\n",
      " 0.75       0.75       0.25       0.5        0.75       0.33333333\n",
      " 0.5        0.         0.5        0.5        0.5        0.75\n",
      " 1.         0.5        0.5        0.66666667 0.         0.5\n",
      " 0.75       0.5        0.75       0.5        0.5        0.75\n",
      " 1.         0.33333333]\n",
      "Average score: 0.548 (+/-0.227)\n"
     ]
    },
    {
     "data": {
      "text/plain": [
       "<AxesSubplot:ylabel='SampleID'>"
      ]
     },
     "execution_count": 36,
     "metadata": {},
     "output_type": "execute_result"
    },
    {
     "data": {
      "image/png": "[encoded data removed]",
      "text/plain": [
       "<Figure size 432x288 with 1 Axes>"
      ]
     },
     "metadata": {
      "needs_background": "light"
     },
     "output_type": "display_data"
    }
   ],
   "source": [
    "# Linear SVM\n",
    "from sklearn import svm\n",
    "from sklearn import metrics\n",
    "import matplotlib.pyplot as plt\n",
    "\n",
    "clf = svm.SVC(kernel = 'linear', C = 1)\n",
    "clf.fit(full_fungi, y)\n",
    "cv = RepeatedStratifiedKFold(n_splits=10, n_repeats=5, random_state=0)\n",
    "score = cross_val_score(clf, full_fungi, y, scoring='accuracy', cv=cv)\n",
    "\n",
    "# report performance\n",
    "print(f'Scores for each fold are: {score}')\n",
    "print(f'Average score: {\"{:.3f} (+/-{:.3f})\".format(score.mean(), score.std())}')\n",
    "\n",
    "pd.Series(abs(clf.coef_[0]), index=full_fungi_names).nlargest(10).plot(kind='barh')\n"
   ]
  },
  {
   "cell_type": "code",
   "execution_count": 124,
   "id": "aff8834e-6d71-49ad-a7b4-d2f3d947697d",
   "metadata": {},
   "outputs": [
    {
     "name": "stdout",
     "output_type": "stream",
     "text": [
      "Scores for each fold are: [0.5        0.5        0.75       1.         0.5        1.\n",
      " 1.         0.25       0.75       0.66666667 1.         0.5\n",
      " 0.75       0.5        0.75       0.75       0.75       0.25\n",
      " 0.75       0.66666667 0.75       0.25       0.75       1.\n",
      " 1.         1.         0.5        0.75       0.25       0.33333333\n",
      " 0.5        0.25       0.5        1.         0.25       0.75\n",
      " 1.         0.75       0.5        1.         0.25       1.\n",
      " 0.75       0.75       0.25       0.75       0.25       0.75\n",
      " 1.         0.66666667]\n",
      "Average score: 0.662\n"
     ]
    },
    {
     "data": {
      "text/plain": [
       "<AxesSubplot:ylabel='SampleID'>"
      ]
     },
     "execution_count": 124,
     "metadata": {},
     "output_type": "execute_result"
    },
    {
     "data": {
      "image/png": "[encoded data removed]",
      "text/plain": [
       "<Figure size 432x288 with 1 Axes>"
      ]
     },
     "metadata": {
      "needs_background": "light"
     },
     "output_type": "display_data"
    }
   ],
   "source": [
    "# Random Forest \n",
    "clf = RandomForestClassifier()\n",
    "clf.fit(full_fungi, y)\n",
    "cv = RepeatedStratifiedKFold(n_splits=10, n_repeats=5, random_state=0)\n",
    "score = cross_val_score(clf, full_fungi, y, scoring='accuracy', cv=cv)\n",
    "\n",
    "# report performance\n",
    "print(f'Scores for each fold are: {score}')\n",
    "print(f'Average score: {\"{:.3f}\".format(score.mean())}')\n",
    "\n",
    "pd.Series(abs(clf.feature_importances_), index=full_fungi_names).nlargest(10).plot(kind='barh')"
   ]
  },
  {
   "cell_type": "code",
   "execution_count": 132,
   "id": "57aa96c7-4471-496b-b8bd-d6f141dcea9f",
   "metadata": {},
   "outputs": [
    {
     "name": "stdout",
     "output_type": "stream",
     "text": [
      "train accuracy: 80.00% \n",
      "accuracy: 100.00% \n",
      "\n",
      "train accuracy: 82.86% \n",
      "accuracy: 50.00% \n",
      "\n",
      "train accuracy: 82.86% \n",
      "accuracy: 50.00% \n",
      "\n",
      "train accuracy: 80.00% \n",
      "accuracy: 50.00% \n",
      "\n",
      "train accuracy: 82.86% \n",
      "accuracy: 25.00% \n",
      "\n",
      "train accuracy: 80.00% \n",
      "accuracy: 100.00% \n",
      "\n",
      "train accuracy: 77.14% \n",
      "accuracy: 75.00% \n",
      "\n",
      "train accuracy: 77.14% \n",
      "accuracy: 50.00% \n",
      "\n",
      "train accuracy: 80.00% \n",
      "accuracy: 75.00% \n",
      "\n",
      "train accuracy: 80.56% \n",
      "accuracy: 66.67% \n",
      "\n",
      "train accuracy: 82.86% \n",
      "accuracy: 50.00% \n",
      "\n",
      "train accuracy: 80.00% \n",
      "accuracy: 50.00% \n",
      "\n",
      "train accuracy: 82.86% \n",
      "accuracy: 50.00% \n",
      "\n",
      "train accuracy: 82.86% \n",
      "accuracy: 50.00% \n",
      "\n",
      "train accuracy: 80.00% \n",
      "accuracy: 50.00% \n",
      "\n",
      "train accuracy: 77.14% \n",
      "accuracy: 100.00% \n",
      "\n",
      "train accuracy: 74.29% \n",
      "accuracy: 75.00% \n",
      "\n",
      "train accuracy: 80.00% \n",
      "accuracy: 50.00% \n",
      "\n",
      "train accuracy: 85.71% \n",
      "accuracy: 50.00% \n",
      "\n",
      "train accuracy: 77.78% \n",
      "accuracy: 100.00% \n",
      "\n",
      "train accuracy: 82.86% \n",
      "accuracy: 50.00% \n",
      "\n",
      "train accuracy: 82.86% \n",
      "accuracy: 25.00% \n",
      "\n",
      "train accuracy: 85.71% \n",
      "accuracy: 50.00% \n",
      "\n",
      "train accuracy: 74.29% \n",
      "accuracy: 75.00% \n",
      "\n",
      "train accuracy: 85.71% \n",
      "accuracy: 100.00% \n",
      "\n",
      "train accuracy: 80.00% \n",
      "accuracy: 100.00% \n",
      "\n",
      "train accuracy: 82.86% \n",
      "accuracy: 75.00% \n",
      "\n",
      "train accuracy: 77.14% \n",
      "accuracy: 75.00% \n",
      "\n",
      "train accuracy: 80.00% \n",
      "accuracy: 50.00% \n",
      "\n",
      "train accuracy: 77.78% \n",
      "accuracy: 66.67% \n",
      "\n",
      "train accuracy: 82.86% \n",
      "accuracy: 50.00% \n",
      "\n",
      "train accuracy: 82.86% \n",
      "accuracy: 0.00% \n",
      "\n",
      "train accuracy: 82.86% \n",
      "accuracy: 50.00% \n",
      "\n",
      "train accuracy: 77.14% \n",
      "accuracy: 50.00% \n",
      "\n",
      "train accuracy: 82.86% \n",
      "accuracy: 50.00% \n",
      "\n",
      "train accuracy: 82.86% \n",
      "accuracy: 75.00% \n",
      "\n",
      "train accuracy: 77.14% \n",
      "accuracy: 75.00% \n",
      "\n",
      "train accuracy: 74.29% \n",
      "accuracy: 75.00% \n",
      "\n",
      "train accuracy: 71.43% \n",
      "accuracy: 50.00% \n",
      "\n",
      "train accuracy: 86.11% \n",
      "accuracy: 66.67% \n",
      "\n",
      "train accuracy: 80.00% \n",
      "accuracy: 50.00% \n",
      "\n",
      "train accuracy: 85.71% \n",
      "accuracy: 100.00% \n",
      "\n",
      "train accuracy: 74.29% \n",
      "accuracy: 50.00% \n",
      "\n",
      "train accuracy: 74.29% \n",
      "accuracy: 50.00% \n",
      "\n",
      "train accuracy: 85.71% \n",
      "accuracy: 25.00% \n",
      "\n",
      "train accuracy: 74.29% \n",
      "accuracy: 75.00% \n",
      "\n",
      "train accuracy: 77.14% \n",
      "accuracy: 25.00% \n",
      "\n",
      "train accuracy: 82.86% \n",
      "accuracy: 75.00% \n",
      "\n",
      "train accuracy: 77.14% \n",
      "accuracy: 75.00% \n",
      "\n",
      "train accuracy: 75.00% \n",
      "accuracy: 100.00% \n",
      "\n",
      "Accuracy: 62.00% (+/-22.86%)\n"
     ]
    }
   ],
   "source": [
    "# Now with cross-validation\n",
    "# Begin K-fold Cross-Validation\n",
    "kfold = RepeatedStratifiedKFold(n_splits = 10, n_repeats = 5, random_state = 0)\n",
    "cvacc = []\n",
    "cvauc = []\n",
    "\n",
    "# create model with CV compatibility\n",
    "for train, test in kfold.split(full_fungi, y):\n",
    "    \n",
    "    model = Sequential([\n",
    "        Dense(32, activation='relu'),\n",
    "        Dense(32, activation='relu'),\n",
    "        Dense(32, activation='relu'),\n",
    "        Dense(32, activation='relu'),\n",
    "        Dense(32, activation='relu'),\n",
    "        Dense(32, activation='relu'),\n",
    "        Dense(1, activation = 'sigmoid')\n",
    "    ])\n",
    "    \n",
    "    model.compile(optimizer = \"Adam\",\n",
    "                  loss = \"binary_crossentropy\",\n",
    "                  metrics = [\"accuracy\"])\n",
    "    \n",
    "    model.fit(full_fungi[train], y[train],\n",
    "              epochs = 1000,\n",
    "              validation_split = .2,\n",
    "              verbose = 0)\n",
    "    \n",
    "    train_result = model.evaluate(full_fungi[train], y[train], verbose = 0)\n",
    "    print(\"train {:s}: {:.2%} \".format(model.metrics_names[1], train_result[1]))\n",
    "    \n",
    "    result = model.evaluate(full_fungi[test], y[test], verbose = 0)\n",
    "    print(\"{:s}: {:.2%} \\n\".format(model.metrics_names[1], result[1]))\n",
    "    \n",
    "    cvacc.append(result[1])\n",
    "    \n",
    "print(\"Accuracy: {:.2%} (+/-{:.2%})\".format(np.mean(cvacc), np.std(cvacc)))"
   ]
  },
  {
   "cell_type": "markdown",
   "id": "e2f1ae26-1bd1-4f64-b453-638fc39b13f1",
   "metadata": {},
   "source": [
    "## Bacteria Species Testing"
   ]
  },
  {
   "cell_type": "code",
   "execution_count": 29,
   "id": "6bfd0418-11ff-47a4-8b8c-2d2507f2d4c0",
   "metadata": {},
   "outputs": [
    {
     "name": "stdout",
     "output_type": "stream",
     "text": [
      "Scores for each fold are: [1.         1.         1.         0.75       0.75       1.\n",
      " 0.5        1.         0.75       0.66666667 1.         0.75\n",
      " 0.75       1.         0.75       0.75       0.75       1.\n",
      " 0.5        1.         1.         1.         0.75       1.\n",
      " 0.25       1.         1.         1.         1.         0.33333333\n",
      " 0.75       1.         0.75       1.         1.         0.5\n",
      " 1.         1.         0.75       1.         0.75       1.\n",
      " 1.         0.75       0.75       1.         1.         0.5\n",
      " 1.         0.66666667]\n",
      "Average score: 0.843 (+/-0.197)\n"
     ]
    },
    {
     "data": {
      "text/plain": [
       "<AxesSubplot:>"
      ]
     },
     "execution_count": 29,
     "metadata": {},
     "output_type": "execute_result"
    },
    {
     "data": {
      "image/png": "[encoded data removed]",
      "text/plain": [
       "<Figure size 432x288 with 1 Axes>"
      ]
     },
     "metadata": {
      "needs_background": "light"
     },
     "output_type": "display_data"
    }
   ],
   "source": [
    "# Linear SVM\n",
    "from sklearn import svm\n",
    "from sklearn import metrics\n",
    "import matplotlib.pyplot as plt\n",
    "\n",
    "clf = svm.SVC(kernel = 'linear', C = 1)\n",
    "clf.fit(bacteria, y)\n",
    "cv = RepeatedStratifiedKFold(n_splits=10, n_repeats=5, random_state=0)\n",
    "score = cross_val_score(clf, bacteria, y, scoring='accuracy', cv=cv)\n",
    "\n",
    "# report performance\n",
    "print(f'Scores for each fold are: {score}')\n",
    "print(f'Average score: {\"{:.3f} (+/-{:.3f})\".format(score.mean(), score.std())}')\n",
    "\n",
    "pd.Series(abs(clf.coef_[0]), index=bacteria_species_names).nlargest(10).plot(kind='barh')\n"
   ]
  },
  {
   "cell_type": "code",
   "execution_count": 127,
   "id": "77f0533a-c173-4a8a-a0c1-d51dfa131807",
   "metadata": {},
   "outputs": [
    {
     "name": "stdout",
     "output_type": "stream",
     "text": [
      "Scores for each fold are: [1.         0.75       0.75       0.75       0.75       1.\n",
      " 0.75       0.75       0.75       0.33333333 1.         0.5\n",
      " 1.         1.         0.75       0.75       0.75       0.75\n",
      " 0.75       1.         1.         0.5        0.75       1.\n",
      " 0.5        0.75       0.75       1.         1.         0.66666667\n",
      " 0.75       1.         0.5        1.         0.5        0.5\n",
      " 1.         1.         0.75       0.66666667 1.         0.75\n",
      " 1.         1.         0.75       0.75       0.75       0.5\n",
      " 0.75       0.66666667]\n",
      "Average score: 0.787\n"
     ]
    },
    {
     "data": {
      "text/plain": [
       "<AxesSubplot:>"
      ]
     },
     "execution_count": 127,
     "metadata": {},
     "output_type": "execute_result"
    },
    {
     "data": {
      "image/png": "[encoded data removed]",
      "text/plain": [
       "<Figure size 432x288 with 1 Axes>"
      ]
     },
     "metadata": {
      "needs_background": "light"
     },
     "output_type": "display_data"
    }
   ],
   "source": [
    "# Random Forest \n",
    "clf = RandomForestClassifier()\n",
    "clf.fit(bacteria, y)\n",
    "cv = RepeatedStratifiedKFold(n_splits=10, n_repeats=5, random_state=0)\n",
    "score = cross_val_score(clf, bacteria, y, scoring='accuracy', cv=cv)\n",
    "\n",
    "# report performance\n",
    "print(f'Scores for each fold are: {score}')\n",
    "print(f'Average score: {\"{:.3f}\".format(score.mean())}')\n",
    "\n",
    "pd.Series(abs(clf.feature_importances_), index=bacteria_species_names).nlargest(10).plot(kind='barh')"
   ]
  },
  {
   "cell_type": "code",
   "execution_count": 130,
   "id": "fd9fff6a-3f0f-412e-985a-7b2a93cd7232",
   "metadata": {},
   "outputs": [
    {
     "name": "stdout",
     "output_type": "stream",
     "text": [
      "train accuracy: 100.00% \n",
      "accuracy: 100.00% \n",
      "\n",
      "train accuracy: 100.00% \n",
      "accuracy: 75.00% \n",
      "\n",
      "train accuracy: 100.00% \n",
      "accuracy: 75.00% \n",
      "\n",
      "train accuracy: 94.29% \n",
      "accuracy: 75.00% \n",
      "\n",
      "train accuracy: 94.29% \n",
      "accuracy: 100.00% \n",
      "\n",
      "train accuracy: 100.00% \n",
      "accuracy: 100.00% \n",
      "\n",
      "train accuracy: 97.14% \n",
      "accuracy: 25.00% \n",
      "\n",
      "train accuracy: 97.14% \n",
      "accuracy: 75.00% \n",
      "\n",
      "train accuracy: 100.00% \n",
      "accuracy: 50.00% \n",
      "\n",
      "train accuracy: 94.44% \n",
      "accuracy: 66.67% \n",
      "\n",
      "train accuracy: 100.00% \n",
      "accuracy: 100.00% \n",
      "\n",
      "train accuracy: 94.29% \n",
      "accuracy: 50.00% \n",
      "\n",
      "train accuracy: 94.29% \n",
      "accuracy: 100.00% \n",
      "\n",
      "train accuracy: 100.00% \n",
      "accuracy: 100.00% \n",
      "\n",
      "train accuracy: 94.29% \n",
      "accuracy: 75.00% \n",
      "\n",
      "train accuracy: 97.14% \n",
      "accuracy: 75.00% \n",
      "\n",
      "train accuracy: 94.29% \n",
      "accuracy: 100.00% \n",
      "\n",
      "train accuracy: 97.14% \n",
      "accuracy: 75.00% \n",
      "\n",
      "train accuracy: 100.00% \n",
      "accuracy: 50.00% \n",
      "\n",
      "train accuracy: 91.67% \n",
      "accuracy: 100.00% \n",
      "\n",
      "train accuracy: 97.14% \n",
      "accuracy: 75.00% \n",
      "\n",
      "train accuracy: 100.00% \n",
      "accuracy: 75.00% \n",
      "\n",
      "train accuracy: 97.14% \n",
      "accuracy: 75.00% \n",
      "\n",
      "train accuracy: 100.00% \n",
      "accuracy: 100.00% \n",
      "\n",
      "train accuracy: 97.14% \n",
      "accuracy: 50.00% \n",
      "\n",
      "train accuracy: 97.14% \n",
      "accuracy: 75.00% \n",
      "\n",
      "train accuracy: 100.00% \n",
      "accuracy: 100.00% \n",
      "\n",
      "train accuracy: 94.29% \n",
      "accuracy: 100.00% \n",
      "\n",
      "train accuracy: 97.14% \n",
      "accuracy: 100.00% \n",
      "\n",
      "train accuracy: 100.00% \n",
      "accuracy: 66.67% \n",
      "\n",
      "train accuracy: 100.00% \n",
      "accuracy: 100.00% \n",
      "\n",
      "train accuracy: 94.29% \n",
      "accuracy: 100.00% \n",
      "\n",
      "train accuracy: 100.00% \n",
      "accuracy: 75.00% \n",
      "\n",
      "train accuracy: 100.00% \n",
      "accuracy: 100.00% \n",
      "\n",
      "train accuracy: 97.14% \n",
      "accuracy: 75.00% \n",
      "\n",
      "train accuracy: 97.14% \n",
      "accuracy: 50.00% \n",
      "\n",
      "train accuracy: 97.14% \n",
      "accuracy: 100.00% \n",
      "\n",
      "train accuracy: 94.29% \n",
      "accuracy: 100.00% \n",
      "\n",
      "train accuracy: 91.43% \n",
      "accuracy: 50.00% \n",
      "\n",
      "train accuracy: 97.22% \n",
      "accuracy: 66.67% \n",
      "\n",
      "train accuracy: 94.29% \n",
      "accuracy: 100.00% \n",
      "\n",
      "train accuracy: 97.14% \n",
      "accuracy: 75.00% \n",
      "\n",
      "train accuracy: 91.43% \n",
      "accuracy: 100.00% \n",
      "\n",
      "train accuracy: 94.29% \n",
      "accuracy: 75.00% \n",
      "\n",
      "train accuracy: 100.00% \n",
      "accuracy: 100.00% \n",
      "\n",
      "train accuracy: 100.00% \n",
      "accuracy: 75.00% \n",
      "\n",
      "train accuracy: 100.00% \n",
      "accuracy: 75.00% \n",
      "\n",
      "train accuracy: 97.14% \n",
      "accuracy: 50.00% \n",
      "\n",
      "train accuracy: 97.14% \n",
      "accuracy: 100.00% \n",
      "\n",
      "train accuracy: 91.67% \n",
      "accuracy: 66.67% \n",
      "\n",
      "Accuracy: 80.33% (+/-19.42%)\n"
     ]
    }
   ],
   "source": [
    "# Now with cross-validation\n",
    "# Begin K-fold Cross-Validation\n",
    "kfold = RepeatedStratifiedKFold(n_splits = 10, n_repeats = 5, random_state = 0)\n",
    "cvacc = []\n",
    "cvauc = []\n",
    "\n",
    "# create model with CV compatibility\n",
    "for train, test in kfold.split(bacteria, y):\n",
    "    \n",
    "    model = Sequential([\n",
    "        Lambda(lambda x: K.log(K.cast((1 + x * 1000), \"float32\"))/K.log(K.cast((1 + 1000), \"float32\"))),\n",
    "        Dense(500, activation = 'softplus', kernel_regularizer=tf.keras.regularizers.l1(.001)),\n",
    "        Dropout(.4),\n",
    "        BatchNormalization(),\n",
    "        Dense(500, activation = 'softplus', kernel_regularizer=tf.keras.regularizers.l1(.001)),\n",
    "        Dropout(.4),\n",
    "        BatchNormalization(),\n",
    "        Dense(500, activation = 'softplus', kernel_regularizer=tf.keras.regularizers.l1(.001)),\n",
    "        Dropout(.4),\n",
    "        BatchNormalization(),\n",
    "        Dense(500, activation = 'softplus', kernel_regularizer=tf.keras.regularizers.l1(.001)),\n",
    "        Dropout(.4),\n",
    "        BatchNormalization(),\n",
    "        Dense(500, activation = 'softplus', kernel_regularizer=tf.keras.regularizers.l1(.001)),\n",
    "        Dropout(.4),\n",
    "        BatchNormalization(),\n",
    "        Dense(500, activation = 'softplus', kernel_regularizer=tf.keras.regularizers.l1(.001)),\n",
    "        Dropout(.4),\n",
    "        BatchNormalization(),\n",
    "        Dense(1, activation = 'sigmoid')\n",
    "    ])\n",
    "    \n",
    "    model.compile(optimizer = \"Adam\",\n",
    "                  loss = \"binary_crossentropy\",\n",
    "                  metrics = [\"accuracy\"])\n",
    "    \n",
    "    model.fit(bacteria[train], y[train],\n",
    "              epochs = 1000,\n",
    "              validation_split = .2,\n",
    "              verbose = 0)\n",
    "    \n",
    "    train_result = model.evaluate(bacteria[train], y[train], verbose = 0)\n",
    "    print(\"train {:s}: {:.2%} \".format(model.metrics_names[1], train_result[1]))\n",
    "    \n",
    "    result = model.evaluate(bacteria[test], y[test], verbose = 0)\n",
    "    print(\"{:s}: {:.2%} \\n\".format(model.metrics_names[1], result[1]))\n",
    "    \n",
    "    cvacc.append(result[1])\n",
    "    \n",
    "print(\"Accuracy: {:.2%} (+/-{:.2%})\".format(np.mean(cvacc), np.std(cvacc)))"
   ]
  },
  {
   "cell_type": "markdown",
   "id": "a5595555-a872-45e1-95f1-7e8ac4e7997e",
   "metadata": {},
   "source": [
    "## Combined Gene Testing"
   ]
  },
  {
   "cell_type": "code",
   "execution_count": 275,
   "id": "192e5982-ca19-4438-acd4-b980c3dab654",
   "metadata": {},
   "outputs": [
    {
     "name": "stdout",
     "output_type": "stream",
     "text": [
      "Scores for each fold are: [1.         0.75       0.5        1.         1.         0.75\n",
      " 0.         0.75       0.5        0.66666667 0.5        0.5\n",
      " 0.75       0.5        0.5        0.75       1.         0.75\n",
      " 0.5        0.66666667 0.5        0.75       0.75       0.5\n",
      " 0.25       0.75       1.         0.75       0.75       0.66666667\n",
      " 0.75       0.5        0.75       0.75       0.75       0.75\n",
      " 0.75       0.75       0.5        0.66666667 0.5        0.5\n",
      " 1.         0.75       0.75       0.5        0.75       0.5\n",
      " 0.5        1.        ]\n",
      "Average score: 0.673 (+/-0.199)\n"
     ]
    },
    {
     "data": {
      "text/plain": [
       "<AxesSubplot:ylabel='SampleID'>"
      ]
     },
     "execution_count": 275,
     "metadata": {},
     "output_type": "execute_result"
    },
    {
     "data": {
      "image/png": "[encoded data removed]",
      "text/plain": [
       "<Figure size 432x288 with 1 Axes>"
      ]
     },
     "metadata": {
      "needs_background": "light"
     },
     "output_type": "display_data"
    }
   ],
   "source": [
    "# Linear SVM\n",
    "from sklearn import svm\n",
    "from sklearn import metrics\n",
    "import matplotlib.pyplot as plt\n",
    "\n",
    "clf = svm.SVC(kernel = 'linear', C = 2)\n",
    "clf.fit(combined, y)\n",
    "cv = RepeatedStratifiedKFold(n_splits=10, n_repeats=5, random_state=0)\n",
    "score = cross_val_score(clf, combined, y, scoring='accuracy', cv=cv)\n",
    "\n",
    "# report performance\n",
    "print(f'Scores for each fold are: {score}')\n",
    "print(f'Average score: {\"{:.3f} (+/-{:.3f})\".format(score.mean(), score.std())}')\n",
    "\n",
    "pd.Series(abs(clf.coef_[0]), index=combined_names).nlargest(10).plot(kind='barh')\n"
   ]
  },
  {
   "cell_type": "code",
   "execution_count": null,
   "id": "d67c5f4a-d87d-443e-9901-63bb6b0d33cd",
   "metadata": {},
   "outputs": [
    {
     "name": "stdout",
     "output_type": "stream",
     "text": [
      "Scores for each fold are: [0.75       1.         0.5        1.         1.         1.\n",
      " 0.75       0.5        0.75       0.33333333 1.         0.75\n",
      " 0.75       0.75       1.         0.75       1.         1.\n",
      " 1.         0.66666667 1.         0.75       0.75       0.75\n",
      " 0.75       0.75       1.         0.75       0.75       1.\n",
      " 1.         0.75       0.75       0.75       1.         1.\n",
      " 1.         1.         0.5        0.66666667 1.         1.\n",
      " 0.75       1.         0.5        1.         0.75       1.\n",
      " 0.5        1.        ]\n",
      "Average score: 0.828 (+/-0.181)\n"
     ]
    },
    {
     "data": {
      "text/plain": [
       "<AxesSubplot:ylabel='SampleID'>"
      ]
     },
     "execution_count": 292,
     "metadata": {},
     "output_type": "execute_result"
    },
    {
     "data": {
      "image/png": "[encoded data removed]",
      "text/plain": [
       "<Figure size 432x288 with 1 Axes>"
      ]
     },
     "metadata": {
      "needs_background": "light"
     },
     "output_type": "display_data"
    }
   ],
   "source": [
    "# Random Forest \n",
    "clf = RandomForestClassifier()\n",
    "clf.fit(combined, y)\n",
    "cv = RepeatedStratifiedKFold(n_splits=10, n_repeats=5, random_state=1)\n",
    "score = cross_val_score(clf, combined, y, scoring='accuracy', cv=cv)\n",
    "\n",
    "# report performance\n",
    "print(f'Scores for each fold are: {score}')\n",
    "print(f'Average score: {\"{:.3f} (+/-{:.3f})\".format(score.mean(), score.std())}')\n",
    "\n",
    "pd.Series(abs(clf.feature_importances_), index=combined_names).nlargest(10).plot(kind='barh')"
   ]
  },
  {
   "cell_type": "code",
   "execution_count": 296,
   "id": "6066b81c-d1ff-4ac8-8759-f1b7ebf2401f",
   "metadata": {},
   "outputs": [
    {
     "name": "stdout",
     "output_type": "stream",
     "text": [
      "train accuracy: 100.00% \n",
      "accuracy: 100.00% \n",
      "\n",
      "train accuracy: 97.14% \n",
      "accuracy: 50.00% \n",
      "\n",
      "train accuracy: 100.00% \n",
      "accuracy: 100.00% \n",
      "\n",
      "train accuracy: 94.29% \n",
      "accuracy: 75.00% \n",
      "\n",
      "train accuracy: 94.29% \n",
      "accuracy: 100.00% \n",
      "\n",
      "train accuracy: 97.14% \n",
      "accuracy: 100.00% \n",
      "\n",
      "train accuracy: 97.14% \n",
      "accuracy: 50.00% \n",
      "\n",
      "train accuracy: 94.29% \n",
      "accuracy: 75.00% \n",
      "\n",
      "train accuracy: 97.14% \n",
      "accuracy: 75.00% \n",
      "\n",
      "train accuracy: 97.22% \n",
      "accuracy: 100.00% \n",
      "\n",
      "train accuracy: 97.14% \n",
      "accuracy: 75.00% \n",
      "\n",
      "train accuracy: 97.14% \n",
      "accuracy: 75.00% \n",
      "\n",
      "train accuracy: 94.29% \n",
      "accuracy: 100.00% \n",
      "\n",
      "train accuracy: 100.00% \n",
      "accuracy: 75.00% \n",
      "\n",
      "train accuracy: 94.29% \n",
      "accuracy: 100.00% \n",
      "\n",
      "train accuracy: 97.14% \n",
      "accuracy: 75.00% \n",
      "\n",
      "train accuracy: 97.14% \n",
      "accuracy: 100.00% \n",
      "\n",
      "train accuracy: 97.14% \n",
      "accuracy: 100.00% \n",
      "\n",
      "train accuracy: 97.14% \n",
      "accuracy: 75.00% \n",
      "\n",
      "train accuracy: 97.22% \n",
      "accuracy: 66.67% \n",
      "\n",
      "train accuracy: 94.29% \n",
      "accuracy: 75.00% \n",
      "\n",
      "train accuracy: 97.14% \n",
      "accuracy: 75.00% \n",
      "\n",
      "train accuracy: 97.14% \n",
      "accuracy: 100.00% \n",
      "\n",
      "train accuracy: 88.57% \n",
      "accuracy: 100.00% \n",
      "\n",
      "train accuracy: 97.14% \n",
      "accuracy: 50.00% \n",
      "\n",
      "train accuracy: 97.14% \n",
      "accuracy: 75.00% \n",
      "\n",
      "train accuracy: 100.00% \n",
      "accuracy: 50.00% \n",
      "\n",
      "train accuracy: 94.29% \n",
      "accuracy: 100.00% \n",
      "\n",
      "train accuracy: 100.00% \n",
      "accuracy: 100.00% \n",
      "\n",
      "train accuracy: 100.00% \n",
      "accuracy: 100.00% \n",
      "\n",
      "train accuracy: 97.14% \n",
      "accuracy: 100.00% \n",
      "\n",
      "train accuracy: 94.29% \n",
      "accuracy: 75.00% \n",
      "\n",
      "train accuracy: 97.14% \n",
      "accuracy: 75.00% \n",
      "\n",
      "train accuracy: 97.14% \n",
      "accuracy: 100.00% \n",
      "\n",
      "train accuracy: 97.14% \n",
      "accuracy: 100.00% \n",
      "\n",
      "train accuracy: 97.14% \n",
      "accuracy: 75.00% \n",
      "\n",
      "train accuracy: 97.14% \n",
      "accuracy: 75.00% \n",
      "\n",
      "train accuracy: 100.00% \n",
      "accuracy: 100.00% \n",
      "\n",
      "train accuracy: 100.00% \n",
      "accuracy: 50.00% \n",
      "\n",
      "train accuracy: 97.22% \n",
      "accuracy: 66.67% \n",
      "\n",
      "train accuracy: 100.00% \n",
      "accuracy: 100.00% \n",
      "\n",
      "train accuracy: 97.14% \n",
      "accuracy: 75.00% \n",
      "\n",
      "train accuracy: 97.14% \n",
      "accuracy: 100.00% \n",
      "\n",
      "train accuracy: 100.00% \n",
      "accuracy: 75.00% \n",
      "\n",
      "train accuracy: 97.14% \n",
      "accuracy: 100.00% \n",
      "\n",
      "train accuracy: 97.14% \n",
      "accuracy: 75.00% \n",
      "\n",
      "train accuracy: 97.14% \n",
      "accuracy: 100.00% \n",
      "\n",
      "train accuracy: 97.14% \n",
      "accuracy: 75.00% \n",
      "\n",
      "train accuracy: 100.00% \n",
      "accuracy: 75.00% \n",
      "\n",
      "train accuracy: 94.44% \n",
      "accuracy: 100.00% \n",
      "\n",
      "Accuracy: 83.67% (+/-16.66%)\n"
     ]
    }
   ],
   "source": [
    "# Now with cross-validation\n",
    "# Begin K-fold Cross-Validation\n",
    "kfold = RepeatedStratifiedKFold(n_splits = 10, n_repeats = 5, random_state = 0)\n",
    "cvacc = []\n",
    "cvauc = []\n",
    "\n",
    "# create model with CV compatibility\n",
    "for train, test in kfold.split(combined, y):\n",
    "    \n",
    "    model = Sequential([\n",
    "        Lambda(lambda x: K.log(K.cast((1 + x * 1000), \"float32\"))/K.log(K.cast((1 + 1000), \"float32\"))),\n",
    "        Dense(500, activation = 'softplus', kernel_regularizer=tf.keras.regularizers.l1(.001)),\n",
    "        Dropout(.4),\n",
    "        BatchNormalization(),\n",
    "        Dense(500, activation = 'softplus', kernel_regularizer=tf.keras.regularizers.l1(.001)),\n",
    "        Dropout(.4),\n",
    "        BatchNormalization(),\n",
    "        Dense(500, activation = 'softplus', kernel_regularizer=tf.keras.regularizers.l1(.001)),\n",
    "        Dropout(.4),\n",
    "        BatchNormalization(),\n",
    "        Dense(500, activation = 'softplus', kernel_regularizer=tf.keras.regularizers.l1(.001)),\n",
    "        Dropout(.4),\n",
    "        BatchNormalization(),\n",
    "        Dense(500, activation = 'softplus', kernel_regularizer=tf.keras.regularizers.l1(.001)),\n",
    "        Dropout(.4),\n",
    "        BatchNormalization(),\n",
    "        Dense(500, activation = 'softplus', kernel_regularizer=tf.keras.regularizers.l1(.001)),\n",
    "        Dropout(.4),\n",
    "        BatchNormalization(),\n",
    "        Dense(1, activation = 'sigmoid')\n",
    "    ])\n",
    "    \n",
    "    model.compile(optimizer = \"Adam\",\n",
    "                  loss = \"binary_crossentropy\",\n",
    "                  metrics = [\"accuracy\"])\n",
    "    \n",
    "    model.fit(combined[train], y[train],\n",
    "              epochs = 1000,\n",
    "              validation_split = .2,\n",
    "              verbose = 0)\n",
    "    \n",
    "    train_result = model.evaluate(combined[train], y[train], verbose = 0)\n",
    "    print(\"train {:s}: {:.2%} \".format(model.metrics_names[1], train_result[1]))\n",
    "    \n",
    "    result = model.evaluate(combined[test], y[test], verbose = 0)\n",
    "    print(\"{:s}: {:.2%} \\n\".format(model.metrics_names[1], result[1]))\n",
    "    \n",
    "    cvacc.append(result[1])\n",
    "    \n",
    "print(\"Accuracy: {:.2%} (+/-{:.2%})\".format(np.mean(cvacc), np.std(cvacc)))"
   ]
  }
 ],
 "metadata": {
  "kernelspec": {
   "display_name": "Python 3 (ipykernel)",
   "language": "python",
   "name": "python3"
  },
  "language_info": {
   "codemirror_mode": {
    "name": "ipython",
    "version": 3
   },
   "file_extension": ".py",
   "mimetype": "text/x-python",
   "name": "python",
   "nbconvert_exporter": "python",
   "pygments_lexer": "ipython3",
   "version": "3.8.5"
  }
 },
 "nbformat": 4,
 "nbformat_minor": 5
}
